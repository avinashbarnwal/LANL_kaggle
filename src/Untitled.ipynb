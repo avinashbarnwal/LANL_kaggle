{
 "cells": [
  {
   "cell_type": "code",
   "execution_count": 1,
   "metadata": {},
   "outputs": [],
   "source": [
    "import os\n",
    "import shutil\n",
    "import pandas                as pd\n",
    "import numpy                 as np\n",
    "from sklearn.model_selection import StratifiedKFold"
   ]
  },
  {
   "cell_type": "code",
   "execution_count": 3,
   "metadata": {},
   "outputs": [],
   "source": [
    "NFOLDS       = 5\n",
    "RANDOM_STATE = 42"
   ]
  },
  {
   "cell_type": "code",
   "execution_count": null,
   "metadata": {},
   "outputs": [],
   "source": [
    "script_name  = os.path.basename(__file__).split('.')[0]"
   ]
  },
  {
   "cell_type": "code",
   "execution_count": null,
   "metadata": {},
   "outputs": [],
   "source": [
    "MODEL_NAME   = \"{0}__folds{1}\".format(script_name, NFOLDS)"
   ]
  },
  {
   "cell_type": "code",
   "execution_count": null,
   "metadata": {},
   "outputs": [],
   "source": [
    "print(\"Model: {}\".format(MODEL_NAME))\n",
    "\n",
    "print(\"Reading training data\")\n",
    "train = pd.read_csv('../input/train.csv')\n",
    "test = pd.read_csv('../input/test.csv')\n",
    "\n",
    "y = train.target.values\n",
    "train_ids = train.ID_code.values\n",
    "train = train.drop(['ID_code', 'target'], axis=1)\n",
    "feature_list = train.columns\n",
    "\n",
    "test_ids = test.ID_code.values\n",
    "test = test[feature_list]\n",
    "\n",
    "X = train.values.astype(float)\n",
    "X_test = test.values.astype(float)\n",
    "\n",
    "clfs = []\n",
    "folds = StratifiedKFold(n_splits=NFOLDS, shuffle=True, random_state=RANDOM_STATE)\n",
    "oof_preds = np.zeros((len(train), 1))\n",
    "test_preds = np.zeros((len(test), 1))\n",
    "\n",
    "for fold_, (trn_, val_) in enumerate(folds.split(y, y)):\n",
    "    print(\"Current Fold: {}\".format(fold_))\n",
    "    trn_x, trn_y = X[trn_, :], y[trn_]\n",
    "    val_x, val_y = X[val_, :], y[val_]\n",
    "\n",
    "    clf = DEFINE MODEL HERE\n",
    "\n",
    "    FIT MODEL HERE\n",
    "\n",
    "    val_pred = GENERATE PREDICTIONS FOR VALIDATION DATA\n",
    "    test_fold_pred = GENERATE PREDICTIONS FOR TEST DATA\n",
    "\n",
    "    print(\"AUC = {}\".format(metrics.roc_auc_score(val_y, val_pred)))\n",
    "    oof_preds[val_, :] = val_pred.reshape((-1, 1))\n",
    "    test_preds += test_fold_pred.reshape((-1, 1))\n",
    "\n",
    "test_preds /= NFOLDS\n",
    "\n",
    "roc_score = metrics.roc_auc_score(y, oof_preds.ravel())\n",
    "print(\"Overall AUC = {}\".format(roc_score))\n",
    "\n",
    "print(\"Saving OOF predictions\")\n",
    "oof_preds = pd.DataFrame(np.column_stack((train_ids,oof_preds.ravel())), columns=['ID_code', 'target'])\n",
    "oof_preds.to_csv('../kfolds/{}__{}.csv'.format(MODEL_NAME, str(roc_score)), index=False)\n",
    "\n",
    "print(\"Saving code to reproduce\")\n",
    "shutil.copyfile(os.path.basename(__file__), \n",
    "                             '../model_source/{}__{}.py'.format(MODEL_NAME, str(roc_score)))\n",
    "\n",
    "print(\"Saving submission file\")\n",
    "sample = pd.read_csv('../input/sample_submission.csv')\n",
    "sample.target = test_preds.astype(float)\n",
    "sample.ID_code = test_ids\n",
    "sample.to_csv('../model_predictions/submission_{}__{}.csv'.format(MODEL_NAME,\n",
    "                                                                                                                     str(roc_score)), index=False)"
   ]
  }
 ],
 "metadata": {
  "kernelspec": {
   "display_name": "Python 3",
   "language": "python",
   "name": "python3"
  },
  "language_info": {
   "codemirror_mode": {
    "name": "ipython",
    "version": 3
   },
   "file_extension": ".py",
   "mimetype": "text/x-python",
   "name": "python",
   "nbconvert_exporter": "python",
   "pygments_lexer": "ipython3",
   "version": "3.7.3"
  }
 },
 "nbformat": 4,
 "nbformat_minor": 2
}
